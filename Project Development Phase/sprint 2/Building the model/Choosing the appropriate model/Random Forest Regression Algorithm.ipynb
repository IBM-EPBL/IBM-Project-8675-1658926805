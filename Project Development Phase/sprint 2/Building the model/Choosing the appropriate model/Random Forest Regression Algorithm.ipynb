{
  "cells": [
    {
      "cell_type": "markdown",
      "metadata": {
        "id": "m3XeOm4eYvyq"
      },
      "source": [
        "## STANDARDIZATION"
      ]
    },
    {
      "cell_type": "code",
      "execution_count": null,
      "metadata": {
        "id": "Vni2kpEEGE6n"
      },
      "outputs": [],
      "source": [
        "#importing standardscalar from scikitlearn to standardize data values into standard format\n",
        "from sklearn.preprocessing import StandardScaler\n",
        "sc=StandardScaler()\n",
        "scaled=pd.DataFrame(sc.fit_transform(Independent),columns=Independent.columns)"
      ]
    },
    {
      "cell_type": "code",
      "execution_count": null,
      "metadata": {
        "colab": {
          "base_uri": "https://localhost:8080/",
          "height": 270
        },
        "id": "rBLmEWTrGu8S",
        "outputId": "93f83799-9268-4fa3-a096-34593036d1c8"
      },
      "outputs": [
        {
          "output_type": "execute_result",
          "data": {
            "text/plain": [
              "     seller    abtest  vehicleType  yearOfRegistration   powerPS  kilometer  \\\n",
              "0 -0.002842 -0.963931    -0.914283           -1.683521 -1.712930   0.659092   \n",
              "1 -0.002842 -0.963931     1.896897            1.113393  1.237690  -0.846937   \n",
              "2 -0.002842 -0.963931     2.459133            0.025704  0.818391  -0.846937   \n",
              "3 -0.002842 -0.963931    -0.352047           -0.440448 -0.548212   0.659092   \n",
              "4 -0.002842 -0.963931    -0.352047            0.647241 -0.641389  -2.955376   \n",
              "\n",
              "   monthOfRegistration  fuelType  notRepairedDamage  nrOfPictures  postalCode  \\\n",
              "0            -1.544670 -0.616646          -0.328996           0.0    0.760274   \n",
              "1            -0.197835  1.246101           3.039553           0.0    0.625346   \n",
              "2             0.610266  1.246101          -0.328996           0.0    1.537240   \n",
              "3             0.071532 -0.616646          -0.328996           0.0    1.560264   \n",
              "4             0.340899  1.246101          -0.328996           0.0    0.372740   \n",
              "\n",
              "   offerType_Gesuch  gearbox_manuell  \n",
              "0         -0.005683         0.511747  \n",
              "1         -0.005683         0.511747  \n",
              "2         -0.005683        -1.954090  \n",
              "3         -0.005683         0.511747  \n",
              "4         -0.005683         0.511747  "
            ],
            "text/html": [
              "\n",
              "  <div id=\"df-30895d92-c1d3-4e69-8b9d-7ae991cc430b\">\n",
              "    <div class=\"colab-df-container\">\n",
              "      <div>\n",
              "<style scoped>\n",
              "    .dataframe tbody tr th:only-of-type {\n",
              "        vertical-align: middle;\n",
              "    }\n",
              "\n",
              "    .dataframe tbody tr th {\n",
              "        vertical-align: top;\n",
              "    }\n",
              "\n",
              "    .dataframe thead th {\n",
              "        text-align: right;\n",
              "    }\n",
              "</style>\n",
              "<table border=\"1\" class=\"dataframe\">\n",
              "  <thead>\n",
              "    <tr style=\"text-align: right;\">\n",
              "      <th></th>\n",
              "      <th>seller</th>\n",
              "      <th>abtest</th>\n",
              "      <th>vehicleType</th>\n",
              "      <th>yearOfRegistration</th>\n",
              "      <th>powerPS</th>\n",
              "      <th>kilometer</th>\n",
              "      <th>monthOfRegistration</th>\n",
              "      <th>fuelType</th>\n",
              "      <th>notRepairedDamage</th>\n",
              "      <th>nrOfPictures</th>\n",
              "      <th>postalCode</th>\n",
              "      <th>offerType_Gesuch</th>\n",
              "      <th>gearbox_manuell</th>\n",
              "    </tr>\n",
              "  </thead>\n",
              "  <tbody>\n",
              "    <tr>\n",
              "      <th>0</th>\n",
              "      <td>-0.002842</td>\n",
              "      <td>-0.963931</td>\n",
              "      <td>-0.914283</td>\n",
              "      <td>-1.683521</td>\n",
              "      <td>-1.712930</td>\n",
              "      <td>0.659092</td>\n",
              "      <td>-1.544670</td>\n",
              "      <td>-0.616646</td>\n",
              "      <td>-0.328996</td>\n",
              "      <td>0.0</td>\n",
              "      <td>0.760274</td>\n",
              "      <td>-0.005683</td>\n",
              "      <td>0.511747</td>\n",
              "    </tr>\n",
              "    <tr>\n",
              "      <th>1</th>\n",
              "      <td>-0.002842</td>\n",
              "      <td>-0.963931</td>\n",
              "      <td>1.896897</td>\n",
              "      <td>1.113393</td>\n",
              "      <td>1.237690</td>\n",
              "      <td>-0.846937</td>\n",
              "      <td>-0.197835</td>\n",
              "      <td>1.246101</td>\n",
              "      <td>3.039553</td>\n",
              "      <td>0.0</td>\n",
              "      <td>0.625346</td>\n",
              "      <td>-0.005683</td>\n",
              "      <td>0.511747</td>\n",
              "    </tr>\n",
              "    <tr>\n",
              "      <th>2</th>\n",
              "      <td>-0.002842</td>\n",
              "      <td>-0.963931</td>\n",
              "      <td>2.459133</td>\n",
              "      <td>0.025704</td>\n",
              "      <td>0.818391</td>\n",
              "      <td>-0.846937</td>\n",
              "      <td>0.610266</td>\n",
              "      <td>1.246101</td>\n",
              "      <td>-0.328996</td>\n",
              "      <td>0.0</td>\n",
              "      <td>1.537240</td>\n",
              "      <td>-0.005683</td>\n",
              "      <td>-1.954090</td>\n",
              "    </tr>\n",
              "    <tr>\n",
              "      <th>3</th>\n",
              "      <td>-0.002842</td>\n",
              "      <td>-0.963931</td>\n",
              "      <td>-0.352047</td>\n",
              "      <td>-0.440448</td>\n",
              "      <td>-0.548212</td>\n",
              "      <td>0.659092</td>\n",
              "      <td>0.071532</td>\n",
              "      <td>-0.616646</td>\n",
              "      <td>-0.328996</td>\n",
              "      <td>0.0</td>\n",
              "      <td>1.560264</td>\n",
              "      <td>-0.005683</td>\n",
              "      <td>0.511747</td>\n",
              "    </tr>\n",
              "    <tr>\n",
              "      <th>4</th>\n",
              "      <td>-0.002842</td>\n",
              "      <td>-0.963931</td>\n",
              "      <td>-0.352047</td>\n",
              "      <td>0.647241</td>\n",
              "      <td>-0.641389</td>\n",
              "      <td>-2.955376</td>\n",
              "      <td>0.340899</td>\n",
              "      <td>1.246101</td>\n",
              "      <td>-0.328996</td>\n",
              "      <td>0.0</td>\n",
              "      <td>0.372740</td>\n",
              "      <td>-0.005683</td>\n",
              "      <td>0.511747</td>\n",
              "    </tr>\n",
              "  </tbody>\n",
              "</table>\n",
              "</div>\n",
              "      <button class=\"colab-df-convert\" onclick=\"convertToInteractive('df-30895d92-c1d3-4e69-8b9d-7ae991cc430b')\"\n",
              "              title=\"Convert this dataframe to an interactive table.\"\n",
              "              style=\"display:none;\">\n",
              "        \n",
              "  <svg xmlns=\"http://www.w3.org/2000/svg\" height=\"24px\"viewBox=\"0 0 24 24\"\n",
              "       width=\"24px\">\n",
              "    <path d=\"M0 0h24v24H0V0z\" fill=\"none\"/>\n",
              "    <path d=\"M18.56 5.44l.94 2.06.94-2.06 2.06-.94-2.06-.94-.94-2.06-.94 2.06-2.06.94zm-11 1L8.5 8.5l.94-2.06 2.06-.94-2.06-.94L8.5 2.5l-.94 2.06-2.06.94zm10 10l.94 2.06.94-2.06 2.06-.94-2.06-.94-.94-2.06-.94 2.06-2.06.94z\"/><path d=\"M17.41 7.96l-1.37-1.37c-.4-.4-.92-.59-1.43-.59-.52 0-1.04.2-1.43.59L10.3 9.45l-7.72 7.72c-.78.78-.78 2.05 0 2.83L4 21.41c.39.39.9.59 1.41.59.51 0 1.02-.2 1.41-.59l7.78-7.78 2.81-2.81c.8-.78.8-2.07 0-2.86zM5.41 20L4 18.59l7.72-7.72 1.47 1.35L5.41 20z\"/>\n",
              "  </svg>\n",
              "      </button>\n",
              "      \n",
              "  <style>\n",
              "    .colab-df-container {\n",
              "      display:flex;\n",
              "      flex-wrap:wrap;\n",
              "      gap: 12px;\n",
              "    }\n",
              "\n",
              "    .colab-df-convert {\n",
              "      background-color: #E8F0FE;\n",
              "      border: none;\n",
              "      border-radius: 50%;\n",
              "      cursor: pointer;\n",
              "      display: none;\n",
              "      fill: #1967D2;\n",
              "      height: 32px;\n",
              "      padding: 0 0 0 0;\n",
              "      width: 32px;\n",
              "    }\n",
              "\n",
              "    .colab-df-convert:hover {\n",
              "      background-color: #E2EBFA;\n",
              "      box-shadow: 0px 1px 2px rgba(60, 64, 67, 0.3), 0px 1px 3px 1px rgba(60, 64, 67, 0.15);\n",
              "      fill: #174EA6;\n",
              "    }\n",
              "\n",
              "    [theme=dark] .colab-df-convert {\n",
              "      background-color: #3B4455;\n",
              "      fill: #D2E3FC;\n",
              "    }\n",
              "\n",
              "    [theme=dark] .colab-df-convert:hover {\n",
              "      background-color: #434B5C;\n",
              "      box-shadow: 0px 1px 3px 1px rgba(0, 0, 0, 0.15);\n",
              "      filter: drop-shadow(0px 1px 2px rgba(0, 0, 0, 0.3));\n",
              "      fill: #FFFFFF;\n",
              "    }\n",
              "  </style>\n",
              "\n",
              "      <script>\n",
              "        const buttonEl =\n",
              "          document.querySelector('#df-30895d92-c1d3-4e69-8b9d-7ae991cc430b button.colab-df-convert');\n",
              "        buttonEl.style.display =\n",
              "          google.colab.kernel.accessAllowed ? 'block' : 'none';\n",
              "\n",
              "        async function convertToInteractive(key) {\n",
              "          const element = document.querySelector('#df-30895d92-c1d3-4e69-8b9d-7ae991cc430b');\n",
              "          const dataTable =\n",
              "            await google.colab.kernel.invokeFunction('convertToInteractive',\n",
              "                                                     [key], {});\n",
              "          if (!dataTable) return;\n",
              "\n",
              "          const docLinkHtml = 'Like what you see? Visit the ' +\n",
              "            '<a target=\"_blank\" href=https://colab.research.google.com/notebooks/data_table.ipynb>data table notebook</a>'\n",
              "            + ' to learn more about interactive tables.';\n",
              "          element.innerHTML = '';\n",
              "          dataTable['output_type'] = 'display_data';\n",
              "          await google.colab.output.renderOutput(dataTable, element);\n",
              "          const docLink = document.createElement('div');\n",
              "          docLink.innerHTML = docLinkHtml;\n",
              "          element.appendChild(docLink);\n",
              "        }\n",
              "      </script>\n",
              "    </div>\n",
              "  </div>\n",
              "  "
            ]
          },
          "metadata": {},
          "execution_count": 76
        }
      ],
      "source": [
        "scaled.head()"
      ]
    },
    {
      "cell_type": "markdown",
      "metadata": {
        "id": "2rpmc3HoY60c"
      },
      "source": [
        "## ***DIVIDING DATA INTO TRAIN AND TEST***"
      ]
    },
    {
      "cell_type": "code",
      "execution_count": null,
      "metadata": {
        "id": "MnnsUp2yImLZ"
      },
      "outputs": [],
      "source": [
        "#divivng the dataset into train and test using train_test_split function\n",
        "from sklearn.model_selection import train_test_split\n",
        "x_train,x_test,y_train,y_test=train_test_split(scaled,Dependent,test_size=0.25,random_state=0)"
      ]
    },
    {
      "cell_type": "code",
      "execution_count": null,
      "metadata": {
        "colab": {
          "base_uri": "https://localhost:8080/"
        },
        "id": "aD7YwZY7JlME",
        "outputId": "bdc655f0-e982-4762-d4ab-ac30fd7fa459"
      },
      "outputs": [
        {
          "output_type": "execute_result",
          "data": {
            "text/plain": [
              "(278646, 13)"
            ]
          },
          "metadata": {},
          "execution_count": 78
        }
      ],
      "source": [
        "#shape of the training data\n",
        "x_train.shape"
      ]
    },
    {
      "cell_type": "code",
      "execution_count": null,
      "metadata": {
        "colab": {
          "base_uri": "https://localhost:8080/"
        },
        "id": "VYOip-fFJtIR",
        "outputId": "eaa363fc-d3ad-49cb-ddc0-74636521179c"
      },
      "outputs": [
        {
          "output_type": "execute_result",
          "data": {
            "text/plain": [
              "(92882, 13)"
            ]
          },
          "metadata": {},
          "execution_count": 79
        }
      ],
      "source": [
        "#shape of the test data\n",
        "x_test.shape"
      ]
    },
    {
      "cell_type": "code",
      "execution_count": null,
      "metadata": {
        "colab": {
          "base_uri": "https://localhost:8080/",
          "height": 270
        },
        "id": "XDDdFU7F8QRh",
        "outputId": "20f159d2-a70c-4e22-f547-4713e05a7370"
      },
      "outputs": [
        {
          "output_type": "execute_result",
          "data": {
            "text/plain": [
              "          seller    abtest  vehicleType  yearOfRegistration   powerPS  \\\n",
              "43344  -0.002842 -0.963931    -0.352047            0.025704 -0.719037   \n",
              "253492 -0.002842 -0.963931     0.772425            0.647241 -0.004677   \n",
              "243201 -0.002842  1.037418     0.210189            0.647241  0.228267   \n",
              "317331 -0.002842 -0.963931    -0.914283            0.181089 -1.712930   \n",
              "356702 -0.002842  1.037418     1.896897            1.734930  2.480056   \n",
              "\n",
              "        kilometer  monthOfRegistration  fuelType  notRepairedDamage  \\\n",
              "43344    0.659092            -0.467202  1.246101           3.039553   \n",
              "253492  -0.846937            -1.005936  1.246101          -0.328996   \n",
              "243201  -0.846937             1.418367 -0.616646          -0.328996   \n",
              "317331   0.659092            -1.544670  1.246101          -0.328996   \n",
              "356702  -0.809666             0.610266 -0.616646          -0.328996   \n",
              "\n",
              "        nrOfPictures  postalCode  offerType_Gesuch  gearbox_manuell  \n",
              "43344            0.0    0.009471         -0.005683         0.511747  \n",
              "253492           0.0   -1.049561         -0.005683         0.511747  \n",
              "243201           0.0    0.640540         -0.005683         0.511747  \n",
              "317331           0.0    0.334056         -0.005683         0.511747  \n",
              "356702           0.0    1.162149         -0.005683        -1.954090  "
            ],
            "text/html": [
              "\n",
              "  <div id=\"df-6d9de16e-a1df-4334-9828-49a52fed8a62\">\n",
              "    <div class=\"colab-df-container\">\n",
              "      <div>\n",
              "<style scoped>\n",
              "    .dataframe tbody tr th:only-of-type {\n",
              "        vertical-align: middle;\n",
              "    }\n",
              "\n",
              "    .dataframe tbody tr th {\n",
              "        vertical-align: top;\n",
              "    }\n",
              "\n",
              "    .dataframe thead th {\n",
              "        text-align: right;\n",
              "    }\n",
              "</style>\n",
              "<table border=\"1\" class=\"dataframe\">\n",
              "  <thead>\n",
              "    <tr style=\"text-align: right;\">\n",
              "      <th></th>\n",
              "      <th>seller</th>\n",
              "      <th>abtest</th>\n",
              "      <th>vehicleType</th>\n",
              "      <th>yearOfRegistration</th>\n",
              "      <th>powerPS</th>\n",
              "      <th>kilometer</th>\n",
              "      <th>monthOfRegistration</th>\n",
              "      <th>fuelType</th>\n",
              "      <th>notRepairedDamage</th>\n",
              "      <th>nrOfPictures</th>\n",
              "      <th>postalCode</th>\n",
              "      <th>offerType_Gesuch</th>\n",
              "      <th>gearbox_manuell</th>\n",
              "    </tr>\n",
              "  </thead>\n",
              "  <tbody>\n",
              "    <tr>\n",
              "      <th>43344</th>\n",
              "      <td>-0.002842</td>\n",
              "      <td>-0.963931</td>\n",
              "      <td>-0.352047</td>\n",
              "      <td>0.025704</td>\n",
              "      <td>-0.719037</td>\n",
              "      <td>0.659092</td>\n",
              "      <td>-0.467202</td>\n",
              "      <td>1.246101</td>\n",
              "      <td>3.039553</td>\n",
              "      <td>0.0</td>\n",
              "      <td>0.009471</td>\n",
              "      <td>-0.005683</td>\n",
              "      <td>0.511747</td>\n",
              "    </tr>\n",
              "    <tr>\n",
              "      <th>253492</th>\n",
              "      <td>-0.002842</td>\n",
              "      <td>-0.963931</td>\n",
              "      <td>0.772425</td>\n",
              "      <td>0.647241</td>\n",
              "      <td>-0.004677</td>\n",
              "      <td>-0.846937</td>\n",
              "      <td>-1.005936</td>\n",
              "      <td>1.246101</td>\n",
              "      <td>-0.328996</td>\n",
              "      <td>0.0</td>\n",
              "      <td>-1.049561</td>\n",
              "      <td>-0.005683</td>\n",
              "      <td>0.511747</td>\n",
              "    </tr>\n",
              "    <tr>\n",
              "      <th>243201</th>\n",
              "      <td>-0.002842</td>\n",
              "      <td>1.037418</td>\n",
              "      <td>0.210189</td>\n",
              "      <td>0.647241</td>\n",
              "      <td>0.228267</td>\n",
              "      <td>-0.846937</td>\n",
              "      <td>1.418367</td>\n",
              "      <td>-0.616646</td>\n",
              "      <td>-0.328996</td>\n",
              "      <td>0.0</td>\n",
              "      <td>0.640540</td>\n",
              "      <td>-0.005683</td>\n",
              "      <td>0.511747</td>\n",
              "    </tr>\n",
              "    <tr>\n",
              "      <th>317331</th>\n",
              "      <td>-0.002842</td>\n",
              "      <td>-0.963931</td>\n",
              "      <td>-0.914283</td>\n",
              "      <td>0.181089</td>\n",
              "      <td>-1.712930</td>\n",
              "      <td>0.659092</td>\n",
              "      <td>-1.544670</td>\n",
              "      <td>1.246101</td>\n",
              "      <td>-0.328996</td>\n",
              "      <td>0.0</td>\n",
              "      <td>0.334056</td>\n",
              "      <td>-0.005683</td>\n",
              "      <td>0.511747</td>\n",
              "    </tr>\n",
              "    <tr>\n",
              "      <th>356702</th>\n",
              "      <td>-0.002842</td>\n",
              "      <td>1.037418</td>\n",
              "      <td>1.896897</td>\n",
              "      <td>1.734930</td>\n",
              "      <td>2.480056</td>\n",
              "      <td>-0.809666</td>\n",
              "      <td>0.610266</td>\n",
              "      <td>-0.616646</td>\n",
              "      <td>-0.328996</td>\n",
              "      <td>0.0</td>\n",
              "      <td>1.162149</td>\n",
              "      <td>-0.005683</td>\n",
              "      <td>-1.954090</td>\n",
              "    </tr>\n",
              "  </tbody>\n",
              "</table>\n",
              "</div>\n",
              "      <button class=\"colab-df-convert\" onclick=\"convertToInteractive('df-6d9de16e-a1df-4334-9828-49a52fed8a62')\"\n",
              "              title=\"Convert this dataframe to an interactive table.\"\n",
              "              style=\"display:none;\">\n",
              "        \n",
              "  <svg xmlns=\"http://www.w3.org/2000/svg\" height=\"24px\"viewBox=\"0 0 24 24\"\n",
              "       width=\"24px\">\n",
              "    <path d=\"M0 0h24v24H0V0z\" fill=\"none\"/>\n",
              "    <path d=\"M18.56 5.44l.94 2.06.94-2.06 2.06-.94-2.06-.94-.94-2.06-.94 2.06-2.06.94zm-11 1L8.5 8.5l.94-2.06 2.06-.94-2.06-.94L8.5 2.5l-.94 2.06-2.06.94zm10 10l.94 2.06.94-2.06 2.06-.94-2.06-.94-.94-2.06-.94 2.06-2.06.94z\"/><path d=\"M17.41 7.96l-1.37-1.37c-.4-.4-.92-.59-1.43-.59-.52 0-1.04.2-1.43.59L10.3 9.45l-7.72 7.72c-.78.78-.78 2.05 0 2.83L4 21.41c.39.39.9.59 1.41.59.51 0 1.02-.2 1.41-.59l7.78-7.78 2.81-2.81c.8-.78.8-2.07 0-2.86zM5.41 20L4 18.59l7.72-7.72 1.47 1.35L5.41 20z\"/>\n",
              "  </svg>\n",
              "      </button>\n",
              "      \n",
              "  <style>\n",
              "    .colab-df-container {\n",
              "      display:flex;\n",
              "      flex-wrap:wrap;\n",
              "      gap: 12px;\n",
              "    }\n",
              "\n",
              "    .colab-df-convert {\n",
              "      background-color: #E8F0FE;\n",
              "      border: none;\n",
              "      border-radius: 50%;\n",
              "      cursor: pointer;\n",
              "      display: none;\n",
              "      fill: #1967D2;\n",
              "      height: 32px;\n",
              "      padding: 0 0 0 0;\n",
              "      width: 32px;\n",
              "    }\n",
              "\n",
              "    .colab-df-convert:hover {\n",
              "      background-color: #E2EBFA;\n",
              "      box-shadow: 0px 1px 2px rgba(60, 64, 67, 0.3), 0px 1px 3px 1px rgba(60, 64, 67, 0.15);\n",
              "      fill: #174EA6;\n",
              "    }\n",
              "\n",
              "    [theme=dark] .colab-df-convert {\n",
              "      background-color: #3B4455;\n",
              "      fill: #D2E3FC;\n",
              "    }\n",
              "\n",
              "    [theme=dark] .colab-df-convert:hover {\n",
              "      background-color: #434B5C;\n",
              "      box-shadow: 0px 1px 3px 1px rgba(0, 0, 0, 0.15);\n",
              "      filter: drop-shadow(0px 1px 2px rgba(0, 0, 0, 0.3));\n",
              "      fill: #FFFFFF;\n",
              "    }\n",
              "  </style>\n",
              "\n",
              "      <script>\n",
              "        const buttonEl =\n",
              "          document.querySelector('#df-6d9de16e-a1df-4334-9828-49a52fed8a62 button.colab-df-convert');\n",
              "        buttonEl.style.display =\n",
              "          google.colab.kernel.accessAllowed ? 'block' : 'none';\n",
              "\n",
              "        async function convertToInteractive(key) {\n",
              "          const element = document.querySelector('#df-6d9de16e-a1df-4334-9828-49a52fed8a62');\n",
              "          const dataTable =\n",
              "            await google.colab.kernel.invokeFunction('convertToInteractive',\n",
              "                                                     [key], {});\n",
              "          if (!dataTable) return;\n",
              "\n",
              "          const docLinkHtml = 'Like what you see? Visit the ' +\n",
              "            '<a target=\"_blank\" href=https://colab.research.google.com/notebooks/data_table.ipynb>data table notebook</a>'\n",
              "            + ' to learn more about interactive tables.';\n",
              "          element.innerHTML = '';\n",
              "          dataTable['output_type'] = 'display_data';\n",
              "          await google.colab.output.renderOutput(dataTable, element);\n",
              "          const docLink = document.createElement('div');\n",
              "          docLink.innerHTML = docLinkHtml;\n",
              "          element.appendChild(docLink);\n",
              "        }\n",
              "      </script>\n",
              "    </div>\n",
              "  </div>\n",
              "  "
            ]
          },
          "metadata": {},
          "execution_count": 80
        }
      ],
      "source": [
        "#Independent features of  training data after dividing training and testing\n",
        "x_train.head()"
      ]
    },
    {
      "cell_type": "code",
      "execution_count": null,
      "metadata": {
        "colab": {
          "base_uri": "https://localhost:8080/"
        },
        "id": "VtIp0ICE8SJR",
        "outputId": "569b1676-6050-4d5c-f9d7-dad13efbafa6"
      },
      "outputs": [
        {
          "output_type": "execute_result",
          "data": {
            "text/plain": [
              "43344      1500.0\n",
              "253492     3500.0\n",
              "243201     6990.0\n",
              "317331     2500.0\n",
              "356702    16275.0\n",
              "Name: price, dtype: float64"
            ]
          },
          "metadata": {},
          "execution_count": 81
        }
      ],
      "source": [
        "#Dependent feature of tetsing data after dividing training and testing \n",
        "y_train.head()"
      ]
    },
    {
      "cell_type": "markdown",
      "metadata": {
        "id": "9AVXJbBKZWsb"
      },
      "source": [
        "## ***MODEL I : RANDOMFOREST REGRESSOR***"
      ]
    },
    {
      "cell_type": "code",
      "execution_count": null,
      "metadata": {
        "id": "Wfv9ajl1skss"
      },
      "outputs": [],
      "source": [
        "from sklearn.ensemble import RandomForestRegressor"
      ]
    },
    {
      "cell_type": "code",
      "source": [
        "#training the data to randomforestregression algorithm\n",
        "rfr=RandomForestRegressor()\n",
        "model=rfr.fit(x_train,y_train)"
      ],
      "metadata": {
        "id": "WlslIVhlz7o0"
      },
      "execution_count": null,
      "outputs": []
    },
    {
      "cell_type": "code",
      "execution_count": null,
      "metadata": {
        "id": "CVUVDFmifJo-"
      },
      "outputs": [],
      "source": [
        "#predicting the test data\n",
        "y_pred=model.predict(x_test)"
      ]
    },
    {
      "cell_type": "markdown",
      "source": [
        "After checking all the algorithms like Linear Regression,Decision Tree Regression,Lasso Regression,Ridge Regression and RandomForest Regression etc., \n",
        "***The accuracy of the Random Forest Algorithm is high. So RandomForestRegression is the best algorithm***"
      ],
      "metadata": {
        "id": "xzo5kzN_7S48"
      }
    }
  ],
  "metadata": {
    "colab": {
      "collapsed_sections": [],
      "provenance": []
    },
    "kernelspec": {
      "display_name": "Python 3",
      "name": "python3"
    },
    "language_info": {
      "name": "python"
    }
  },
  "nbformat": 4,
  "nbformat_minor": 0
}