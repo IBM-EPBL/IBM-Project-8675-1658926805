{
  "cells": [
    {
      "cell_type": "markdown",
      "source": [
        "## ***MODEL SAVING***"
      ],
      "metadata": {
        "id": "fmBaZX9y9cg5"
      }
    },
    {
      "cell_type": "code",
      "execution_count": null,
      "metadata": {
        "id": "kz2nwRBZ-d9I"
      },
      "outputs": [],
      "source": [
        "#importing joblib library to save the model\n",
        "import joblib"
      ]
    },
    {
      "cell_type": "code",
      "execution_count": null,
      "metadata": {
        "id": "q25IUKuBvaqu",
        "colab": {
          "base_uri": "https://localhost:8080/"
        },
        "outputId": "10201762-b0f1-4afb-8f12-ba2513da3e7d"
      },
      "outputs": [
        {
          "output_type": "execute_result",
          "data": {
            "text/plain": [
              "['Car Resale Value Prediction']"
            ]
          },
          "metadata": {},
          "execution_count": 98
        }
      ],
      "source": [
        "#saving the model using 'dump' function in joblib library\n",
        "joblib.dump(model,'Car Resale Value Prediction')"
      ]
    },
    {
      "cell_type": "code",
      "execution_count": null,
      "metadata": {
        "id": "eaLt61QoCU5R"
      },
      "outputs": [],
      "source": [
        "# Loading the model\n",
        "gsk=joblib.load('Car Resale Value Prediction')"
      ]
    },
    {
      "cell_type": "code",
      "execution_count": null,
      "metadata": {
        "id": "U1JPQUxnvmkn",
        "colab": {
          "base_uri": "https://localhost:8080/"
        },
        "outputId": "fdbd1d0e-6067-4655-f9d4-dbdd85526782"
      },
      "outputs": [
        {
          "output_type": "stream",
          "name": "stderr",
          "text": [
            "/usr/local/lib/python3.7/dist-packages/sklearn/base.py:451: UserWarning: X does not have valid feature names, but RandomForestRegressor was fitted with feature names\n",
            "  \"X does not have valid feature names, but\"\n"
          ]
        },
        {
          "output_type": "execute_result",
          "data": {
            "text/plain": [
              "array([3365.97])"
            ]
          },
          "metadata": {},
          "execution_count": 105
        }
      ],
      "source": [
        "# Testing  the model using sample data\n",
        "# predicting the price of the car\n",
        "gsk.predict([['0','0','0','2011','0','1500','9','0','0','0','70464','1','1']])"
      ]
    },
    {
      "cell_type": "code",
      "source": [],
      "metadata": {
        "id": "mh3cryDf3jZs"
      },
      "execution_count": null,
      "outputs": []
    }
  ],
  "metadata": {
    "colab": {
      "collapsed_sections": [],
      "provenance": []
    },
    "kernelspec": {
      "display_name": "Python 3",
      "name": "python3"
    },
    "language_info": {
      "name": "python"
    }
  },
  "nbformat": 4,
  "nbformat_minor": 0
}